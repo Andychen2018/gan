{
  "nbformat": 4,
  "nbformat_minor": 0,
  "metadata": {
    "colab": {
      "name": "01_pytorch_computation_graph.ipynb",
      "provenance": [],
      "collapsed_sections": []
    },
    "kernelspec": {
      "name": "python3",
      "display_name": "Python 3"
    }
  },
  "cells": [
    {
      "cell_type": "markdown",
      "metadata": {
        "id": "DpII-qgno6EX",
        "colab_type": "text"
      },
      "source": [
        "# PyTorch Basics - Computation Graph\n",
        "\n",
        "Make Your Own GAN, 2019"
      ]
    },
    {
      "cell_type": "code",
      "metadata": {
        "id": "7bkrfSHHAPUB",
        "colab_type": "code",
        "colab": {}
      },
      "source": [
        "import torch"
      ],
      "execution_count": 0,
      "outputs": []
    },
    {
      "cell_type": "markdown",
      "metadata": {
        "id": "R1VyK4VQpNYA",
        "colab_type": "text"
      },
      "source": [
        "## Simple Computation Graph\n",
        "\n",
        "> (x) --> (y) --> (z)\n",
        ">\n",
        "> y = x^2\n",
        ">\n",
        "> z = 2x + 3"
      ]
    },
    {
      "cell_type": "code",
      "metadata": {
        "id": "MrgKlTsRAfSk",
        "colab_type": "code",
        "colab": {}
      },
      "source": [
        "# set up simple graph relating x, y and z\n",
        "\n",
        "x = torch.tensor(3.5, requires_grad=True)\n",
        "\n",
        "y = x*x\n",
        "\n",
        "z = 2*y + 3"
      ],
      "execution_count": 0,
      "outputs": []
    },
    {
      "cell_type": "markdown",
      "metadata": {
        "id": "OomRR79kpj-W",
        "colab_type": "text"
      },
      "source": [
        "## Calculate Gradients"
      ]
    },
    {
      "cell_type": "code",
      "metadata": {
        "id": "TOhq_oKGXSOy",
        "colab_type": "code",
        "colab": {}
      },
      "source": [
        "# work out gradients\n",
        "\n",
        "z.backward()"
      ],
      "execution_count": 0,
      "outputs": []
    },
    {
      "cell_type": "code",
      "metadata": {
        "id": "jnBUpoBLfKoI",
        "colab_type": "code",
        "outputId": "4f33d878-e5ff-49a8-a7a5-33f81a3be857",
        "colab": {
          "base_uri": "https://localhost:8080/",
          "height": 34
        }
      },
      "source": [
        "# what is gradient at x = 3.5\n",
        "\n",
        "x.grad"
      ],
      "execution_count": 9,
      "outputs": [
        {
          "output_type": "execute_result",
          "data": {
            "text/plain": [
              "tensor(14.)"
            ]
          },
          "metadata": {
            "tags": []
          },
          "execution_count": 9
        }
      ]
    },
    {
      "cell_type": "code",
      "metadata": {
        "id": "0PHs8JXnfVvh",
        "colab_type": "code",
        "colab": {}
      },
      "source": [
        ""
      ],
      "execution_count": 0,
      "outputs": []
    }
  ]
}