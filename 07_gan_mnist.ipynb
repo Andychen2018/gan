{
  "nbformat": 4,
  "nbformat_minor": 0,
  "metadata": {
    "colab": {
      "name": "07_gan_mnist.ipynb",
      "provenance": [],
      "collapsed_sections": []
    },
    "kernelspec": {
      "name": "python3",
      "display_name": "Python 3"
    }
  },
  "cells": [
    {
      "cell_type": "markdown",
      "metadata": {
        "id": "DpII-qgno6EX",
        "colab_type": "text"
      },
      "source": [
        "# PyTorch Basics - GAN for MNIST\n",
        "\n",
        "Make Your Own GAN, 2019"
      ]
    },
    {
      "cell_type": "code",
      "metadata": {
        "id": "R4cVBs2wlDiv",
        "colab_type": "code",
        "colab": {
          "base_uri": "https://localhost:8080/",
          "height": 34
        },
        "outputId": "4d5a2bef-f70d-4184-a5ee-e588e18d59a5"
      },
      "source": [
        "# mount Drive to access data files\n",
        "\n",
        "from google.colab import drive\n",
        "drive.mount('./mount')"
      ],
      "execution_count": 8,
      "outputs": [
        {
          "output_type": "stream",
          "text": [
            "Drive already mounted at ./mount; to attempt to forcibly remount, call drive.mount(\"./mount\", force_remount=True).\n"
          ],
          "name": "stdout"
        }
      ]
    },
    {
      "cell_type": "code",
      "metadata": {
        "id": "7bkrfSHHAPUB",
        "colab_type": "code",
        "colab": {}
      },
      "source": [
        "# import libraries\n",
        "\n",
        "import torch\n",
        "import torch.nn as nn\n",
        "from torch.utils.data import Dataset\n",
        "\n",
        "import pandas, numpy, random\n",
        "import matplotlib.pyplot as plt"
      ],
      "execution_count": 0,
      "outputs": []
    },
    {
      "cell_type": "markdown",
      "metadata": {
        "id": "o91c-ALVmw0n",
        "colab_type": "text"
      },
      "source": [
        "## Dataset Class"
      ]
    },
    {
      "cell_type": "code",
      "metadata": {
        "id": "hS9SJ5JI5rIW",
        "colab_type": "code",
        "colab": {}
      },
      "source": [
        "# dataset class\n",
        "\n",
        "class MnistDataset(Dataset):\n",
        "    \n",
        "    def __init__(self, csv_file):\n",
        "        self.data_df = pandas.read_csv(csv_file, header=None)\n",
        "        pass\n",
        "    \n",
        "    def __len__(self):\n",
        "        return len(self.data_df)\n",
        "    \n",
        "    def __getitem__(self, index):\n",
        "        # image target (label)\n",
        "        label = self.data_df.iloc[index,0]\n",
        "        target = torch.zeros((10))\n",
        "        target[label] = 1.0\n",
        "        \n",
        "        # image data, normalised from 0-255 to 0-1\n",
        "        image_values = torch.FloatTensor(self.data_df.iloc[index,1:].values) / 255.0\n",
        "        \n",
        "        # return label, image data tensor and target tensor\n",
        "        return label, image_values, target\n",
        "    \n",
        "    def plot_image(self, index):\n",
        "        img = self.data_df.iloc[index,1:].values.reshape(28,28)\n",
        "        plt.title(\"label = \" + str(self.data_df.iloc[index,0]))\n",
        "        plt.imshow(img, interpolation='none', cmap='Blues')\n",
        "        pass\n",
        "    \n",
        "    pass"
      ],
      "execution_count": 0,
      "outputs": []
    },
    {
      "cell_type": "code",
      "metadata": {
        "id": "4xznLd7Cke2r",
        "colab_type": "code",
        "colab": {}
      },
      "source": [
        "# load data\n",
        "\n",
        "mnist_dataset = MnistDataset('mount/My Drive/Colab Notebooks/myo_gan/mnist_data/mnist_train.csv')"
      ],
      "execution_count": 0,
      "outputs": []
    },
    {
      "cell_type": "code",
      "metadata": {
        "id": "CKMHzHy7ltUR",
        "colab_type": "code",
        "colab": {
          "base_uri": "https://localhost:8080/",
          "height": 281
        },
        "outputId": "ccbf5679-dc7e-467f-d2e9-c1169cfb93e6"
      },
      "source": [
        "# check data contains images\n",
        "\n",
        "mnist_dataset.plot_image(9)"
      ],
      "execution_count": 17,
      "outputs": [
        {
          "output_type": "display_data",
          "data": {
            "image/png": "[encoded data removed]",
            "text/plain": [
              "<Figure size 432x288 with 1 Axes>"
            ]
          },
          "metadata": {
            "tags": []
          }
        }
      ]
    },
    {
      "cell_type": "markdown",
      "metadata": {
        "id": "tmHENpBuZzvh",
        "colab_type": "text"
      },
      "source": [
        "## Data Functions"
      ]
    },
    {
      "cell_type": "code",
      "metadata": {
        "id": "px_g8nYPBD3A",
        "colab_type": "code",
        "colab": {}
      },
      "source": [
        "# function to generate uniform random data\n",
        "\n",
        "def generate_random(size):\n",
        "    random_data = torch.rand(size)\n",
        "    return random_data"
      ],
      "execution_count": 0,
      "outputs": []
    },
    {
      "cell_type": "markdown",
      "metadata": {
        "id": "AJ_E9wgYQybx",
        "colab_type": "text"
      },
      "source": [
        "## Discriminator Network"
      ]
    },
    {
      "cell_type": "code",
      "metadata": {
        "id": "MrgKlTsRAfSk",
        "colab_type": "code",
        "colab": {}
      },
      "source": [
        "# discriminator class\n",
        "\n",
        "class Discriminator(nn.Module):\n",
        "    \n",
        "    def __init__(self):\n",
        "        # initialise parent pytorch class\n",
        "        super().__init__()\n",
        "        \n",
        "        # define neural network layers\n",
        "        self.model = nn.Sequential(\n",
        "            nn.Linear(784, 200),\n",
        "            nn.Sigmoid(),\n",
        "            nn.Linear(200, 1),\n",
        "            nn.Sigmoid()\n",
        "        )\n",
        "        \n",
        "        # create loss function\n",
        "        self.loss_function = nn.MSELoss()\n",
        "\n",
        "        # create optimiser, simple stochastic gradient descent\n",
        "        self.optimiser = torch.optim.SGD(self.parameters(), lr=0.01)\n",
        "\n",
        "        # counter and accumulator for progress\n",
        "        self.counter = 0;\n",
        "        self.progress = []\n",
        "\n",
        "        pass\n",
        "    \n",
        "    \n",
        "    def forward(self, inputs):\n",
        "        # simply run model\n",
        "        return self.model(inputs)\n",
        "    \n",
        "    \n",
        "    def train(self, inputs, targets):\n",
        "        # calculate the output of the network\n",
        "        outputs = self.forward(inputs)\n",
        "        \n",
        "        # calculate loss\n",
        "        loss = self.loss_function(outputs, targets)\n",
        "\n",
        "        # increase counter and accumulate error every 10\n",
        "        self.counter += 1;\n",
        "        if (self.counter % 10 == 0):\n",
        "            self.progress.append(loss.item())\n",
        "            pass\n",
        "        if (self.counter % 10000 == 0):\n",
        "            print(\"counter = \", self.counter)\n",
        "            pass\n",
        "\n",
        "        # zero gradients, perform a backward pass, update weights\n",
        "        self.optimiser.zero_grad()\n",
        "        loss.backward()\n",
        "        self.optimiser.step()\n",
        "\n",
        "        pass\n",
        "    \n",
        "    \n",
        "    def plot_progress(self):\n",
        "        df = pandas.DataFrame(self.progress, columns=['loss'])\n",
        "        df.plot(ylim=(0, 1.0), figsize=(16,8), alpha=0.1, marker='.', grid=True, yticks=(0, 0.25, 0.5))\n",
        "        pass\n",
        "    \n",
        "    pass"
      ],
      "execution_count": 0,
      "outputs": []
    },
    {
      "cell_type": "markdown",
      "metadata": {
        "id": "IFajrD3xCgsb",
        "colab_type": "text"
      },
      "source": [
        "## Test Discriminator"
      ]
    },
    {
      "cell_type": "code",
      "metadata": {
        "id": "AXgCZ9DiCl3A",
        "colab_type": "code",
        "outputId": "f3e5d919-2e1a-4d64-ef96-b7a0e64771da",
        "colab": {
          "base_uri": "https://localhost:8080/",
          "height": 255
        }
      },
      "source": [
        "%%time\n",
        "\n",
        "# test discriminator can separate real data from random noise\n",
        "\n",
        "D = Discriminator()\n",
        "\n",
        "for label, image_data_tensor, target_tensor in mnist_dataset:\n",
        "    # real data\n",
        "    D.train(image_data_tensor, torch.FloatTensor([1.0]))\n",
        "    # fake data\n",
        "    D.train(generate_random(784), torch.FloatTensor([0.0]))\n",
        "    pass"
      ],
      "execution_count": 21,
      "outputs": [
        {
          "output_type": "stream",
          "text": [
            "counter =  10000\n",
            "counter =  20000\n",
            "counter =  30000\n",
            "counter =  40000\n",
            "counter =  50000\n",
            "counter =  60000\n",
            "counter =  70000\n",
            "counter =  80000\n",
            "counter =  90000\n",
            "counter =  100000\n",
            "counter =  110000\n",
            "counter =  120000\n",
            "CPU times: user 2min 19s, sys: 7.18 s, total: 2min 26s\n",
            "Wall time: 2min 28s\n"
          ],
          "name": "stdout"
        }
      ]
    },
    {
      "cell_type": "code",
      "metadata": {
        "id": "aBh8AGJFDhcU",
        "colab_type": "code",
        "outputId": "ae38dc8b-3988-4033-a412-0c720092197a",
        "colab": {
          "base_uri": "https://localhost:8080/",
          "height": 483
        }
      },
      "source": [
        "# plot discriminator loss\n",
        "\n",
        "D.plot_progress()"
      ],
      "execution_count": 23,
      "outputs": [
        {
          "output_type": "display_data",
          "data": {
            "image/png": "[encoded data removed]",
            "text/plain": [
              "<Figure size 1152x576 with 1 Axes>"
            ]
          },
          "metadata": {
            "tags": []
          }
        }
      ]
    },
    {
      "cell_type": "code",
      "metadata": {
        "id": "MUMJn6efDkH5",
        "colab_type": "code",
        "outputId": "e7737d88-95da-4cc5-ac73-9c72bb3dbbed",
        "colab": {
          "base_uri": "https://localhost:8080/",
          "height": 153
        }
      },
      "source": [
        "# manually run discriminator to check it can tell real data from fake\n",
        "\n",
        "for i in range(4):\n",
        "  image_data_tensor = mnist_dataset[random.randint(0,60000)][1]\n",
        "  print( D.forward( image_data_tensor ).item() )\n",
        "  pass\n",
        "\n",
        "for i in range(4):\n",
        "  print( D.forward( generate_random(784) ).item() )\n",
        "  pass"
      ],
      "execution_count": 28,
      "outputs": [
        {
          "output_type": "stream",
          "text": [
            "0.9963971972465515\n",
            "0.9963243007659912\n",
            "0.9941178560256958\n",
            "0.9975165128707886\n",
            "0.006270847283303738\n",
            "0.006220031064003706\n",
            "0.0045667532831430435\n",
            "0.005729773547500372\n"
          ],
          "name": "stdout"
        }
      ]
    },
    {
      "cell_type": "markdown",
      "metadata": {
        "id": "SsE9-KrguowG",
        "colab_type": "text"
      },
      "source": [
        "## Generator Network"
      ]
    },
    {
      "cell_type": "code",
      "metadata": {
        "id": "j-JwJlKDh_Ej",
        "colab_type": "code",
        "colab": {}
      },
      "source": [
        "# generator class\n",
        "\n",
        "class Generator(nn.Module):\n",
        "    \n",
        "    def __init__(self):\n",
        "        # initialise parent pytorch class\n",
        "        super().__init__()\n",
        "        \n",
        "        # define neural network layers\n",
        "        self.model = nn.Sequential(\n",
        "            nn.Linear(1, 3),\n",
        "            nn.Sigmoid(),\n",
        "            nn.Linear(3, 4),\n",
        "            nn.Sigmoid()\n",
        "        )\n",
        "        \n",
        "        # create loss function\n",
        "        self.loss_function = nn.MSELoss()\n",
        "\n",
        "        # create optimiser, simple stochastic gradient descent\n",
        "        self.optimiser = torch.optim.SGD(self.parameters(), lr=0.01)\n",
        "\n",
        "        # counter and accumulator for progress\n",
        "        self.counter = 0;\n",
        "        self.progress = []\n",
        "        \n",
        "        pass\n",
        "    \n",
        "    \n",
        "    def forward(self, inputs):        \n",
        "        # simply run model\n",
        "        return self.model(inputs)\n",
        "    \n",
        "    \n",
        "    def train(self, D, inputs, targets):\n",
        "        # calculate the output of the network\n",
        "        g_output = self.forward(inputs)\n",
        "        \n",
        "        # pass onto Discriminator\n",
        "        d_output = D.forward(g_output)\n",
        "        \n",
        "        # calculate error\n",
        "        loss = D.loss_function(d_output, targets)\n",
        "\n",
        "        # increase counter and accumulate error every 10\n",
        "        self.counter += 1;\n",
        "        if (self.counter % 10 == 0):\n",
        "            self.progress.append(loss.item())\n",
        "            pass\n",
        "        if (self.counter % 10000 == 0):\n",
        "            print(\"counter = \", self.counter)\n",
        "            pass\n",
        "\n",
        "        # zero gradients, perform a backward pass, update weights\n",
        "        self.optimiser.zero_grad()\n",
        "        loss.backward()\n",
        "        self.optimiser.step()\n",
        "\n",
        "        pass\n",
        "    \n",
        "    \n",
        "    def plot_progress(self):\n",
        "        df = pandas.DataFrame(self.progress, columns=['loss'])\n",
        "        df.plot(ylim=(0, 1.0), figsize=(16,8), alpha=0.1, marker='.', grid=True, yticks=(0, 0.25, 0.5))\n",
        "        pass\n",
        "    \n",
        "    pass"
      ],
      "execution_count": 0,
      "outputs": []
    },
    {
      "cell_type": "markdown",
      "metadata": {
        "id": "SwjycPNXxF7G",
        "colab_type": "text"
      },
      "source": [
        "## Test Generator Output"
      ]
    },
    {
      "cell_type": "code",
      "metadata": {
        "id": "84vbfjGRwodN",
        "colab_type": "code",
        "outputId": "c25bf8d8-c036-4415-9869-31e30858d119",
        "colab": {
          "base_uri": "https://localhost:8080/",
          "height": 34
        }
      },
      "source": [
        "# check the generator output is of the right type and shape\n",
        "\n",
        "G = Generator()\n",
        "\n",
        "G.forward(torch.FloatTensor([0.5]))"
      ],
      "execution_count": 0,
      "outputs": [
        {
          "output_type": "execute_result",
          "data": {
            "text/plain": [
              "tensor([0.4352, 0.3226, 0.4636, 0.5077], grad_fn=<SigmoidBackward>)"
            ]
          },
          "metadata": {
            "tags": []
          },
          "execution_count": 9
        }
      ]
    },
    {
      "cell_type": "markdown",
      "metadata": {
        "id": "5k9SRwIkxTLi",
        "colab_type": "text"
      },
      "source": [
        "## Train GAN"
      ]
    },
    {
      "cell_type": "code",
      "metadata": {
        "id": "radA76P9xWr1",
        "colab_type": "code",
        "outputId": "1d7fe376-93d2-470f-f906-3c30be85fe97",
        "colab": {
          "base_uri": "https://localhost:8080/",
          "height": 102
        }
      },
      "source": [
        "%%time \n",
        "\n",
        "# create Discriminator and Generator\n",
        "\n",
        "D = Discriminator()\n",
        "G = Generator()\n",
        "\n",
        "# train Discriminator and Generator\n",
        "\n",
        "for i in range(10000):\n",
        "    \n",
        "    # train discriminator on true\n",
        "    D.train(generate_real(), torch.FloatTensor([1.0]))\n",
        "    \n",
        "    # train discriminator on false\n",
        "    # use detach() so gradients in G are not calculated\n",
        "    D.train(G.forward(torch.FloatTensor([0.5])).detach(), torch.FloatTensor([0.0]))\n",
        "    \n",
        "    # train generator\n",
        "    G.train(D, torch.FloatTensor([0.5]), torch.FloatTensor([1.0]))\n",
        "\n",
        "    pass"
      ],
      "execution_count": 0,
      "outputs": [
        {
          "output_type": "stream",
          "text": [
            "counter =  10000\n",
            "counter =  20000\n",
            "counter =  10000\n",
            "CPU times: user 13.1 s, sys: 1.06 s, total: 14.1 s\n",
            "Wall time: 14.1 s\n"
          ],
          "name": "stdout"
        }
      ]
    },
    {
      "cell_type": "code",
      "metadata": {
        "id": "WfGwR21QxYtV",
        "colab_type": "code",
        "outputId": "d23a0877-1417-48b7-9f76-21c25e691c8b",
        "colab": {
          "base_uri": "https://localhost:8080/",
          "height": 483
        }
      },
      "source": [
        "# plot discriminator error\n",
        "\n",
        "D.plot_progress()"
      ],
      "execution_count": 0,
      "outputs": [
        {
          "output_type": "display_data",
          "data": {
            "image/png": "[encoded data removed]",
            "text/plain": [
              "<Figure size 1152x576 with 1 Axes>"
            ]
          },
          "metadata": {
            "tags": []
          }
        }
      ]
    },
    {
      "cell_type": "code",
      "metadata": {
        "id": "SIx0tJBixbGM",
        "colab_type": "code",
        "outputId": "5454d122-0aef-47cb-eb10-3ca3c7b0ff89",
        "colab": {
          "base_uri": "https://localhost:8080/",
          "height": 483
        }
      },
      "source": [
        "# plot generator error\n",
        "\n",
        "G.plot_progress()"
      ],
      "execution_count": 0,
      "outputs": [
        {
          "output_type": "display_data",
          "data": {
            "image/png": "[encoded data removed]",
            "text/plain": [
              "<Figure size 1152x576 with 1 Axes>"
            ]
          },
          "metadata": {
            "tags": []
          }
        }
      ]
    },
    {
      "cell_type": "markdown",
      "metadata": {
        "id": "vddYtD84xkmI",
        "colab_type": "text"
      },
      "source": [
        "## Manually Run Generator"
      ]
    },
    {
      "cell_type": "code",
      "metadata": {
        "id": "mePLPy3Yxj9A",
        "colab_type": "code",
        "outputId": "2acdc35b-5360-4344-b387-2a8ebe6b7c30",
        "colab": {
          "base_uri": "https://localhost:8080/",
          "height": 34
        }
      },
      "source": [
        "# manually run generator to see it's outputs\n",
        "\n",
        "G.forward(torch.FloatTensor([0.5]))"
      ],
      "execution_count": 0,
      "outputs": [
        {
          "output_type": "execute_result",
          "data": {
            "text/plain": [
              "tensor([0.9457, 0.0675, 0.9141, 0.0743], grad_fn=<SigmoidBackward>)"
            ]
          },
          "metadata": {
            "tags": []
          },
          "execution_count": 13
        }
      ]
    },
    {
      "cell_type": "markdown",
      "metadata": {
        "id": "0gZ4BG6O53SZ",
        "colab_type": "text"
      },
      "source": [
        "## Visualise Pattern During Training"
      ]
    },
    {
      "cell_type": "code",
      "metadata": {
        "id": "jxHrZmUyxm-z",
        "colab_type": "code",
        "outputId": "8bb86b8c-3de6-45e6-9010-bdbe6b84cab0",
        "colab": {
          "base_uri": "https://localhost:8080/",
          "height": 426
        }
      },
      "source": [
        "# plot images collected during training\n",
        "\n",
        "plt.figure(figsize = (16,8))\n",
        "\n",
        "plt.imshow(numpy.array(image_list).T, interpolation='none', cmap='Blues')"
      ],
      "execution_count": 0,
      "outputs": [
        {
          "output_type": "execute_result",
          "data": {
            "text/plain": [
              "<matplotlib.image.AxesImage at 0x7f0a7ab06128>"
            ]
          },
          "metadata": {
            "tags": []
          },
          "execution_count": 14
        },
        {
          "output_type": "display_data",
          "data": {
            "image/png": "[encoded data removed]",
            "text/plain": [
              "<Figure size 1152x576 with 1 Axes>"
            ]
          },
          "metadata": {
            "tags": []
          }
        }
      ]
    },
    {
      "cell_type": "code",
      "metadata": {
        "id": "GIZtPjkyBpXz",
        "colab_type": "code",
        "colab": {}
      },
      "source": [
        ""
      ],
      "execution_count": 0,
      "outputs": []
    }
  ]
}