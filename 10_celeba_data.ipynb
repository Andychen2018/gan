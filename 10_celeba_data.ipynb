{
  "nbformat": 4,
  "nbformat_minor": 0,
  "metadata": {
    "colab": {
      "name": "10_celeba_data.ipynb",
      "provenance": [],
      "collapsed_sections": [],
      "toc_visible": true
    },
    "kernelspec": {
      "name": "python3",
      "display_name": "Python 3"
    }
  },
  "cells": [
    {
      "cell_type": "markdown",
      "metadata": {
        "id": "DpII-qgno6EX",
        "colab_type": "text"
      },
      "source": [
        "# PyTorch Basics - CelebA Data\n",
        "\n",
        "Make Your Own GAN, 2019"
      ]
    },
    {
      "cell_type": "code",
      "metadata": {
        "id": "B6g6LPI9Xjgl",
        "colab_type": "code",
        "outputId": "c01147e7-e81c-4b9a-e3b2-28915239519b",
        "colab": {
          "base_uri": "https://localhost:8080/",
          "height": 34
        }
      },
      "source": [
        "# mount Drive to access data files\n",
        "\n",
        "from google.colab import drive\n",
        "drive.mount('./mount')"
      ],
      "execution_count": 3,
      "outputs": [
        {
          "output_type": "stream",
          "text": [
            "Drive already mounted at ./mount; to attempt to forcibly remount, call drive.mount(\"./mount\", force_remount=True).\n"
          ],
          "name": "stdout"
        }
      ]
    },
    {
      "cell_type": "markdown",
      "metadata": {
        "id": "Wi65ho8_tgQG",
        "colab_type": "text"
      },
      "source": [
        "## Download CelebA Dataset"
      ]
    },
    {
      "cell_type": "code",
      "metadata": {
        "id": "Jw2Il5l-zB1l",
        "colab_type": "code",
        "colab": {}
      },
      "source": [
        "import torchvision.datasets"
      ],
      "execution_count": 0,
      "outputs": []
    },
    {
      "cell_type": "code",
      "metadata": {
        "id": "-MKGmYJW1EPY",
        "colab_type": "code",
        "colab": {
          "base_uri": "https://localhost:8080/",
          "height": 119
        },
        "outputId": "69ba801b-6575-4c06-a9b8-591bfc397ff4"
      },
      "source": [
        "# download data\n",
        "\n",
        "mnist_dataset = torchvision.datasets.CelebA(root='.', download=True)"
      ],
      "execution_count": 14,
      "outputs": [
        {
          "output_type": "stream",
          "text": [
            "1443490838it [00:22, 63216753.24it/s]\n",
            "26721026it [00:00, 56148919.16it/s]\n",
            "3424458it [00:00, 160894555.76it/s]\n",
            "6082035it [00:00, 57223780.89it/s]\n",
            "12156055it [00:00, 85885075.04it/s]\n",
            "2836386it [00:00, 139522501.62it/s]\n"
          ],
          "name": "stderr"
        }
      ]
    },
    {
      "cell_type": "markdown",
      "metadata": {
        "id": "B9hyVvblv0kF",
        "colab_type": "text"
      },
      "source": [
        "## Extract Images and Package as HDF5\n"
      ]
    },
    {
      "cell_type": "code",
      "metadata": {
        "id": "mgPN34s04_li",
        "colab_type": "code",
        "colab": {}
      },
      "source": [
        "import h5py\n",
        "import zipfile\n",
        "import imageio\n",
        "import os"
      ],
      "execution_count": 0,
      "outputs": []
    },
    {
      "cell_type": "code",
      "metadata": {
        "id": "UJXhnB3wv7kl",
        "colab_type": "code",
        "colab": {
          "base_uri": "https://localhost:8080/",
          "height": 85
        },
        "outputId": "f1056f40-befa-42be-9061-8b4ba0234fba"
      },
      "source": [
        "%%time\n",
        "\n",
        "with h5py.File('mount/My Drive/Colab Notebooks/myo_gan/celeba_dataset/celeba_aligned_small.h5py', 'w') as hf:\n",
        "\n",
        "    count = 0\n",
        "\n",
        "    with zipfile.ZipFile('celeba/img_align_celeba.zip', 'r') as zf:\n",
        "      for i in zf.namelist():\n",
        "        if (i[-4:] == '.jpg'):\n",
        "          ofile = zf.extract(i)\n",
        "          img = imageio.imread(ofile)\n",
        "          #img_list.append(img)\n",
        "          os.remove(ofile)\n",
        "          count = count + 1\n",
        "          if (count%10000 == 0):\n",
        "            print(count, img.shape)\n",
        "            pass\n",
        "          hf.create_dataset(i, data=img, compression=\"gzip\", compression_opts=9)\n",
        "          if (count == 20000):\n",
        "            break\n",
        "          pass\n",
        "        pass\n",
        "      pass"
      ],
      "execution_count": 22,
      "outputs": [
        {
          "output_type": "stream",
          "text": [
            "10000 (218, 178, 3)\n",
            "20000 (218, 178, 3)\n",
            "CPU times: user 3min 21s, sys: 11.1 s, total: 3min 32s\n",
            "Wall time: 4min 18s\n"
          ],
          "name": "stdout"
        }
      ]
    },
    {
      "cell_type": "markdown",
      "metadata": {
        "id": "R1VyK4VQpNYA",
        "colab_type": "text"
      },
      "source": [
        "## Explore HDF5 Data"
      ]
    },
    {
      "cell_type": "code",
      "metadata": {
        "id": "XyJ6UpvQ9L9j",
        "colab_type": "code",
        "colab": {}
      },
      "source": [
        "import numpy\n",
        "import matplotlib.pyplot as plt"
      ],
      "execution_count": 0,
      "outputs": []
    },
    {
      "cell_type": "code",
      "metadata": {
        "id": "tXPSitIsufkE",
        "colab_type": "code",
        "outputId": "d4c1a0cf-4f07-442f-a297-ec7896d87eca",
        "colab": {
          "base_uri": "https://localhost:8080/",
          "height": 34
        }
      },
      "source": [
        "# open HDF5 file and list any groups\n",
        "\n",
        "f = h5py.File('mount/My Drive/Colab Notebooks/myo_gan/celeba_dataset/celeba_aligned_small.h5py', 'r')\n",
        "\n",
        "for groups in f:\n",
        "  print(groups)\n",
        "  pass\n",
        "\n",
        "f.close()"
      ],
      "execution_count": 26,
      "outputs": [
        {
          "output_type": "stream",
          "text": [
            "img_align_celeba\n"
          ],
          "name": "stdout"
        }
      ]
    },
    {
      "cell_type": "code",
      "metadata": {
        "id": "MrgKlTsRAfSk",
        "colab_type": "code",
        "colab": {}
      },
      "source": [
        "with h5py.File('mount/My Drive/Colab Notebooks/myo_gan/celeba_dataset/celeba_aligned_small.h5py', 'r') as file_handle:\n",
        "  dataset = file_handle['img_align_celeba']\n",
        "  image = numpy.array(dataset['000007.jpg'])\n",
        "  plt.imshow(image, interpolation='none')\n",
        "  pass"
      ],
      "execution_count": 0,
      "outputs": []
    },
    {
      "cell_type": "code",
      "metadata": {
        "id": "VLS3pXEevWq9",
        "colab_type": "code",
        "outputId": "62ba377b-2a78-4161-966f-f5a0130dda46",
        "colab": {
          "base_uri": "https://localhost:8080/",
          "height": 34
        }
      },
      "source": [
        "#shape of the image array\n",
        "\n",
        "image.shape"
      ],
      "execution_count": 31,
      "outputs": [
        {
          "output_type": "execute_result",
          "data": {
            "text/plain": [
              "(218, 178, 3)"
            ]
          },
          "metadata": {
            "tags": []
          },
          "execution_count": 31
        }
      ]
    },
    {
      "cell_type": "code",
      "metadata": {
        "id": "loRly8VzvyEm",
        "colab_type": "code",
        "colab": {}
      },
      "source": [
        ""
      ],
      "execution_count": 0,
      "outputs": []
    }
  ]
}