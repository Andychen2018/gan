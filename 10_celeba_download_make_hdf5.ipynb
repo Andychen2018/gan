{
  "nbformat": 4,
  "nbformat_minor": 0,
  "metadata": {
    "colab": {
      "name": "10_celeba_download_make_hdf5.ipynb",
      "provenance": [],
      "collapsed_sections": [],
      "toc_visible": true
    },
    "kernelspec": {
      "name": "python3",
      "display_name": "Python 3"
    }
  },
  "cells": [
    {
      "cell_type": "markdown",
      "metadata": {
        "id": "DpII-qgno6EX",
        "colab_type": "text"
      },
      "source": [
        "# GAN - Download CelebA Data and Make HDF5\n",
        "\n",
        "Make Your Own GAN, 2019"
      ]
    },
    {
      "cell_type": "code",
      "metadata": {
        "id": "B6g6LPI9Xjgl",
        "colab_type": "code",
        "outputId": "d856610d-8bb4-4688-c3d9-e3325348766d",
        "colab": {
          "base_uri": "https://localhost:8080/",
          "height": 34
        }
      },
      "source": [
        "# mount Drive to access data files\n",
        "\n",
        "from google.colab import drive\n",
        "drive.mount('./mount')"
      ],
      "execution_count": 2,
      "outputs": [
        {
          "output_type": "stream",
          "text": [
            "Drive already mounted at ./mount; to attempt to forcibly remount, call drive.mount(\"./mount\", force_remount=True).\n"
          ],
          "name": "stdout"
        }
      ]
    },
    {
      "cell_type": "markdown",
      "metadata": {
        "id": "Wi65ho8_tgQG",
        "colab_type": "text"
      },
      "source": [
        "## Download CelebA Dataset\n",
        "\n",
        "The downloaded data will be deleted after the colab virtual machine is deleted."
      ]
    },
    {
      "cell_type": "code",
      "metadata": {
        "id": "Jw2Il5l-zB1l",
        "colab_type": "code",
        "colab": {}
      },
      "source": [
        "import torchvision.datasets"
      ],
      "execution_count": 0,
      "outputs": []
    },
    {
      "cell_type": "code",
      "metadata": {
        "id": "-MKGmYJW1EPY",
        "colab_type": "code",
        "outputId": "c9719403-f1e7-44a8-ab31-73e04193a4a3",
        "colab": {
          "base_uri": "https://localhost:8080/",
          "height": 119
        }
      },
      "source": [
        "# download data\n",
        "\n",
        "mnist_dataset = torchvision.datasets.CelebA(root='.', download=True)"
      ],
      "execution_count": 7,
      "outputs": [
        {
          "output_type": "stream",
          "text": [
            "1443490838it [00:21, 65673629.89it/s]\n",
            "26721026it [00:00, 38360486.18it/s]\n",
            "3424458it [00:00, 180753531.67it/s]\n",
            "6082035it [00:00, 94024583.33it/s]\n",
            "12156055it [00:00, 75210521.28it/s]\n",
            "2836386it [00:00, 186813623.09it/s]\n"
          ],
          "name": "stderr"
        }
      ]
    },
    {
      "cell_type": "markdown",
      "metadata": {
        "id": "B9hyVvblv0kF",
        "colab_type": "text"
      },
      "source": [
        "## Extract Images and Re-Package as HDF5\n",
        "\n",
        "The HDF5 file is located in google Drive and won't be deleted when the colab virtual machine is deleted."
      ]
    },
    {
      "cell_type": "code",
      "metadata": {
        "id": "mgPN34s04_li",
        "colab_type": "code",
        "colab": {}
      },
      "source": [
        "import h5py\n",
        "import zipfile\n",
        "import imageio\n",
        "import os"
      ],
      "execution_count": 0,
      "outputs": []
    },
    {
      "cell_type": "code",
      "metadata": {
        "id": "UJXhnB3wv7kl",
        "colab_type": "code",
        "outputId": "bca9cd23-5be1-427d-988f-20e5e9cbdaac",
        "colab": {
          "base_uri": "https://localhost:8080/",
          "height": 85
        }
      },
      "source": [
        "%%time\n",
        "\n",
        "# location of the HDF5 package, yours may be under /gan/ not /myo_gan/\n",
        "hdf5_file = 'mount/My Drive/Colab Notebooks/myo_gan/celeba_dataset/celeba_aligned_small.h5py'\n",
        "\n",
        "# how many of the 202,599 images to extract and package into HDF5\n",
        "total_images = 20000\n",
        "\n",
        "with h5py.File(hdf5_file, 'w') as hf:\n",
        "\n",
        "    count = 0\n",
        "\n",
        "    with zipfile.ZipFile('celeba/img_align_celeba.zip', 'r') as zf:\n",
        "      for i in zf.namelist():\n",
        "        if (i[-4:] == '.jpg'):\n",
        "          ofile = zf.extract(i)\n",
        "          img = imageio.imread(ofile)\n",
        "          #img_list.append(img)\n",
        "          os.remove(ofile)\n",
        "          count = count + 1\n",
        "          if (count%10000 == 0):\n",
        "            print(count, img.shape)\n",
        "            pass\n",
        "          hf.create_dataset(i, data=img, compression=\"gzip\", compression_opts=9)\n",
        "          if (count == total_images):\n",
        "            break\n",
        "          pass\n",
        "        pass\n",
        "      pass"
      ],
      "execution_count": 10,
      "outputs": [
        {
          "output_type": "stream",
          "text": [
            "10000 (218, 178, 3)\n",
            "20000 (218, 178, 3)\n",
            "CPU times: user 3min 21s, sys: 13.2 s, total: 3min 34s\n",
            "Wall time: 4min 21s\n"
          ],
          "name": "stdout"
        }
      ]
    },
    {
      "cell_type": "code",
      "metadata": {
        "id": "3O1cSNS2_mdC",
        "colab_type": "code",
        "colab": {}
      },
      "source": [
        ""
      ],
      "execution_count": 0,
      "outputs": []
    }
  ]
}