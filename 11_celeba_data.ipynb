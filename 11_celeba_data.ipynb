{
  "nbformat": 4,
  "nbformat_minor": 0,
  "metadata": {
    "colab": {
      "name": "11_celeba_data.ipynb",
      "provenance": [],
      "collapsed_sections": []
    },
    "kernelspec": {
      "name": "python3",
      "display_name": "Python 3"
    }
  },
  "cells": [
    {
      "cell_type": "markdown",
      "metadata": {
        "id": "DpII-qgno6EX",
        "colab_type": "text"
      },
      "source": [
        "# GAN - CelebA Data\n",
        "\n",
        "Make Your Own GAN, 2019"
      ]
    },
    {
      "cell_type": "code",
      "metadata": {
        "id": "B6g6LPI9Xjgl",
        "colab_type": "code",
        "colab": {}
      },
      "source": [
        "# mount Drive to access data files\n",
        "\n",
        "from google.colab import drive\n",
        "drive.mount('./mount')"
      ],
      "execution_count": 0,
      "outputs": []
    },
    {
      "cell_type": "markdown",
      "metadata": {
        "id": "R1VyK4VQpNYA",
        "colab_type": "text"
      },
      "source": [
        "## Explore HDF5 Data"
      ]
    },
    {
      "cell_type": "code",
      "metadata": {
        "id": "XyJ6UpvQ9L9j",
        "colab_type": "code",
        "colab": {}
      },
      "source": [
        "# import h5py to access data\n",
        "import h5py\n",
        "\n",
        "import numpy\n",
        "import matplotlib.pyplot as plt"
      ],
      "execution_count": 0,
      "outputs": []
    },
    {
      "cell_type": "code",
      "metadata": {
        "id": "tXPSitIsufkE",
        "colab_type": "code",
        "outputId": "beaaed03-0414-4bf9-9ecb-c2d65536bc34",
        "colab": {
          "base_uri": "https://localhost:8080/",
          "height": 34
        }
      },
      "source": [
        "# open HDF5 file and list any groups\n",
        "\n",
        "with h5py.File('mount/My Drive/Colab Notebooks/myo_gan/celeba_dataset/celeba_aligned_small.h5py', 'r') as file_object:\n",
        "  \n",
        "  for group in file_object:\n",
        "    print(group)\n",
        "    pass"
      ],
      "execution_count": 19,
      "outputs": [
        {
          "output_type": "stream",
          "text": [
            "img_align_celeba\n"
          ],
          "name": "stdout"
        }
      ]
    },
    {
      "cell_type": "code",
      "metadata": {
        "id": "MrgKlTsRAfSk",
        "colab_type": "code",
        "colab": {}
      },
      "source": [
        "# open HDF5 file, extract example image as numpy array and plot it\n",
        "\n",
        "with h5py.File('mount/My Drive/Colab Notebooks/myo_gan/celeba_dataset/celeba_aligned_small.h5py', 'r') as file_object:\n",
        "  dataset = file_object['img_align_celeba']\n",
        "  image = numpy.array(dataset['7.jpg'])\n",
        "  plt.imshow(image, interpolation='none')\n",
        "  pass"
      ],
      "execution_count": 0,
      "outputs": []
    },
    {
      "cell_type": "code",
      "metadata": {
        "id": "VLS3pXEevWq9",
        "colab_type": "code",
        "outputId": "997f5694-9073-4faf-ce8f-9e24d16b7fb9",
        "colab": {
          "base_uri": "https://localhost:8080/",
          "height": 34
        }
      },
      "source": [
        "#shape of the image array\n",
        "\n",
        "image.shape"
      ],
      "execution_count": 21,
      "outputs": [
        {
          "output_type": "execute_result",
          "data": {
            "text/plain": [
              "(218, 178, 3)"
            ]
          },
          "metadata": {
            "tags": []
          },
          "execution_count": 21
        }
      ]
    },
    {
      "cell_type": "code",
      "metadata": {
        "id": "6JdUAVOWSbOo",
        "colab_type": "code",
        "colab": {}
      },
      "source": [
        ""
      ],
      "execution_count": 0,
      "outputs": []
    }
  ]
}