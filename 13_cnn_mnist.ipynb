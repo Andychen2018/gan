{
  "nbformat": 4,
  "nbformat_minor": 0,
  "metadata": {
    "colab": {
      "name": "13_cnn_mnist.ipynb",
      "provenance": [],
      "collapsed_sections": []
    },
    "kernelspec": {
      "name": "python3",
      "display_name": "Python 3"
    }
  },
  "cells": [
    {
      "cell_type": "markdown",
      "metadata": {
        "id": "DpII-qgno6EX",
        "colab_type": "text"
      },
      "source": [
        "# Convolutional Neural Network - MNIST\n",
        "\n",
        "Make Your Own GAN, 2019"
      ]
    },
    {
      "cell_type": "code",
      "metadata": {
        "id": "B6g6LPI9Xjgl",
        "colab_type": "code",
        "outputId": "347b4950-63fb-4371-bc63-8f391dad22c0",
        "colab": {
          "base_uri": "https://localhost:8080/",
          "height": 122
        }
      },
      "source": [
        "# mount Drive to access data files\n",
        "\n",
        "from google.colab import drive\n",
        "drive.mount('./mount')"
      ],
      "execution_count": 1,
      "outputs": [
        {
          "output_type": "stream",
          "text": [
            "Go to this URL in a browser: https://accounts.google.com/o/oauth2/auth?client_id=947318989803-6bn6qk8qdgf4n4g3pfee6491hc0brc4i.apps.googleusercontent.com&redirect_uri=urn%3aietf%3awg%3aoauth%3a2.0%3aoob&response_type=code&scope=email%20https%3a%2f%2fwww.googleapis.com%2fauth%2fdocs.test%20https%3a%2f%2fwww.googleapis.com%2fauth%2fdrive%20https%3a%2f%2fwww.googleapis.com%2fauth%2fdrive.photos.readonly%20https%3a%2f%2fwww.googleapis.com%2fauth%2fpeopleapi.readonly\n",
            "\n",
            "Enter your authorization code:\n",
            "··········\n",
            "Mounted at ./mount\n"
          ],
          "name": "stdout"
        }
      ]
    },
    {
      "cell_type": "code",
      "metadata": {
        "id": "7bkrfSHHAPUB",
        "colab_type": "code",
        "colab": {}
      },
      "source": [
        "# import libraries\n",
        "\n",
        "import torch\n",
        "import torch.nn as nn\n",
        "from torch.utils.data import Dataset\n",
        "\n",
        "import pandas\n",
        "import matplotlib.pyplot as plt"
      ],
      "execution_count": 0,
      "outputs": []
    },
    {
      "cell_type": "markdown",
      "metadata": {
        "id": "TPFE9yWMQlbd",
        "colab_type": "text"
      },
      "source": [
        "# Helper Functions"
      ]
    },
    {
      "cell_type": "code",
      "metadata": {
        "id": "zrtvfJ8qQn9u",
        "colab_type": "code",
        "colab": {}
      },
      "source": [
        "# modified from https://github.com/pytorch/vision/issues/720\n",
        "\n",
        "class View(nn.Module):\n",
        "    def __init__(self, shape):\n",
        "        super().__init__()\n",
        "        self.shape = shape,\n",
        "\n",
        "    def forward(self, x):\n",
        "        return x.view(*self.shape)"
      ],
      "execution_count": 0,
      "outputs": []
    },
    {
      "cell_type": "markdown",
      "metadata": {
        "id": "o91c-ALVmw0n",
        "colab_type": "text"
      },
      "source": [
        "## DataSet Class"
      ]
    },
    {
      "cell_type": "code",
      "metadata": {
        "id": "VImRycohm3Ct",
        "colab_type": "code",
        "colab": {}
      },
      "source": [
        "# dataset class\n",
        "\n",
        "class MnistDataset(Dataset):\n",
        "    \n",
        "    def __init__(self, csv_file):\n",
        "        self.data_df = pandas.read_csv(csv_file, header=None)\n",
        "        pass\n",
        "    \n",
        "    def __len__(self):\n",
        "        return len(self.data_df)\n",
        "    \n",
        "    def __getitem__(self, index):\n",
        "        # image target (label)\n",
        "        label = self.data_df.iloc[index,0]\n",
        "        target = torch.zeros((10))\n",
        "        target[label] = 1.0\n",
        "        \n",
        "        # image data, normalised from 0-255 to 0-1\n",
        "        image_values = torch.FloatTensor(self.data_df.iloc[index,1:].values) / 255.0\n",
        "        \n",
        "        # return label, image data tensor and target tensor\n",
        "        return label, image_values, target\n",
        "    \n",
        "    def plot_image(self, index):\n",
        "        img = self.data_df.iloc[index,1:].values.reshape(28,28)\n",
        "        plt.title(\"label = \" + str(self.data_df.iloc[index,0]))\n",
        "        plt.imshow(img, interpolation='none', cmap='Blues')\n",
        "        pass\n",
        "    \n",
        "    pass\n"
      ],
      "execution_count": 0,
      "outputs": []
    },
    {
      "cell_type": "markdown",
      "metadata": {
        "id": "AJ_E9wgYQybx",
        "colab_type": "text"
      },
      "source": [
        "## Load Data"
      ]
    },
    {
      "cell_type": "code",
      "metadata": {
        "id": "wioFGZ4mKUqj",
        "colab_type": "code",
        "colab": {}
      },
      "source": [
        "mnist_dataset = MnistDataset('mount/My Drive/Colab Notebooks/myo_gan/mnist_data/mnist_train.csv')"
      ],
      "execution_count": 0,
      "outputs": []
    },
    {
      "cell_type": "code",
      "metadata": {
        "id": "Bnq2wNUhLZRg",
        "colab_type": "code",
        "outputId": "c7830164-fd47-43f6-928f-e12597c83302",
        "colab": {
          "base_uri": "https://localhost:8080/",
          "height": 281
        }
      },
      "source": [
        "# check data contains images\n",
        "\n",
        "mnist_dataset.plot_image(9)"
      ],
      "execution_count": 5,
      "outputs": [
        {
          "output_type": "display_data",
          "data": {
            "image/png": "[encoded data removed]",
            "text/plain": [
              "<Figure size 432x288 with 1 Axes>"
            ]
          },
          "metadata": {
            "tags": []
          }
        }
      ]
    },
    {
      "cell_type": "markdown",
      "metadata": {
        "id": "R1VyK4VQpNYA",
        "colab_type": "text"
      },
      "source": [
        "## Neural Network Class"
      ]
    },
    {
      "cell_type": "code",
      "metadata": {
        "id": "MrgKlTsRAfSk",
        "colab_type": "code",
        "colab": {}
      },
      "source": [
        "# classifier class\n",
        "\n",
        "class Classifier(nn.Module):\n",
        "    \n",
        "    def __init__(self):\n",
        "        # initialise parent pytorch class\n",
        "        super().__init__()\n",
        "        \n",
        "        # define neural network layers\n",
        "        self.model = nn.Sequential(\n",
        "            # expand 1 to 10 filters\n",
        "            nn.Conv2d(1, 10, kernel_size=5),\n",
        "            nn.MaxPool2d(kernel_size=2),\n",
        "            nn.BatchNorm2d(10),\n",
        "            nn.LeakyReLU(),\n",
        "        \n",
        "            # ten filters to ten filters\n",
        "            nn.Conv2d(10, 10, kernel_size=3),\n",
        "            nn.MaxPool2d(kernel_size=2),\n",
        "            nn.BatchNorm2d(10),\n",
        "            nn.LeakyReLU(),\n",
        "            \n",
        "            View((250)),\n",
        "            nn.Linear(250, 10),\n",
        "            nn.Sigmoid()\n",
        "        )\n",
        "        \n",
        "        # create loss function\n",
        "        self.loss_function = nn.BCELoss()\n",
        "\n",
        "        # create optimiser, using simple stochastic gradient descent\n",
        "        self.optimiser = torch.optim.Adam(self.parameters())\n",
        "\n",
        "        # counter and accumulator for progress\n",
        "        self.counter = 0\n",
        "        self.progress = []\n",
        "\n",
        "        pass\n",
        "    \n",
        "    \n",
        "    def forward(self, inputs):\n",
        "        # simply run model\n",
        "        return self.model(inputs)\n",
        "    \n",
        "    \n",
        "    def train(self, inputs, targets):\n",
        "        # calculate the output of the network\n",
        "        outputs = self.forward(inputs)\n",
        "        \n",
        "        # calculate loss\n",
        "        loss = self.loss_function(outputs, targets)\n",
        "\n",
        "        # increase counter and accumulate error every 10\n",
        "        self.counter += 1\n",
        "        if (self.counter % 10 == 0):\n",
        "            self.progress.append(loss.item())\n",
        "            pass\n",
        "        if (self.counter % 10000 == 0):\n",
        "            print(\"counter = \", self.counter)\n",
        "            pass\n",
        "\n",
        "        # zero gradients, perform a backward pass, and update the weights\n",
        "        self.optimiser.zero_grad()\n",
        "        loss.backward()\n",
        "        self.optimiser.step()\n",
        "\n",
        "        pass\n",
        "    \n",
        "    \n",
        "    def plot_progress(self):\n",
        "        df = pandas.DataFrame(self.progress, columns=['loss'])\n",
        "        df.plot(ylim=(0, 1.0), figsize=(16,8), alpha=0.1, marker='.', grid=True, yticks=(0, 0.25, 0.5))\n",
        "        pass\n",
        "    \n",
        "    pass"
      ],
      "execution_count": 0,
      "outputs": []
    },
    {
      "cell_type": "markdown",
      "metadata": {
        "id": "cwGBnd4xSLBL",
        "colab_type": "text"
      },
      "source": [
        "## Train Neural Network"
      ]
    },
    {
      "cell_type": "code",
      "metadata": {
        "id": "VLS3pXEevWq9",
        "colab_type": "code",
        "outputId": "d8a28d96-2665-4333-d9e3-8f8fc0a8fb65",
        "colab": {
          "base_uri": "https://localhost:8080/",
          "height": 408
        }
      },
      "source": [
        "%%time \n",
        "# create neural network\n",
        "\n",
        "C = Classifier()\n",
        "\n",
        "# train network on MNIST data set\n",
        "\n",
        "epochs = 3\n",
        "\n",
        "for i in range(epochs):\n",
        "    print('training epoch', i+1, \"of\", epochs)\n",
        "    for label, image_data_tensor, target_tensor in mnist_dataset:\n",
        "        C.train(image_data_tensor.view(1, 1, 28, 28), target_tensor)\n",
        "        pass\n",
        "    pass"
      ],
      "execution_count": 26,
      "outputs": [
        {
          "output_type": "stream",
          "text": [
            "training epoch 1 of 3\n",
            "counter =  10000\n",
            "counter =  20000\n",
            "counter =  30000\n",
            "counter =  40000\n",
            "counter =  50000\n",
            "counter =  60000\n",
            "training epoch 2 of 3\n",
            "counter =  70000\n",
            "counter =  80000\n",
            "counter =  90000\n",
            "counter =  100000\n",
            "counter =  110000\n",
            "counter =  120000\n",
            "training epoch 3 of 3\n",
            "counter =  130000\n",
            "counter =  140000\n",
            "counter =  150000\n",
            "counter =  160000\n",
            "counter =  170000\n",
            "counter =  180000\n",
            "CPU times: user 10min 37s, sys: 26.6 s, total: 11min 3s\n",
            "Wall time: 11min 13s\n"
          ],
          "name": "stdout"
        }
      ]
    },
    {
      "cell_type": "code",
      "metadata": {
        "id": "G046xt9ySheM",
        "colab_type": "code",
        "outputId": "d2999eb7-f49c-4f05-8547-6f7d342be0eb",
        "colab": {
          "base_uri": "https://localhost:8080/",
          "height": 483
        }
      },
      "source": [
        "# plot classifier error\n",
        "\n",
        "C.plot_progress()"
      ],
      "execution_count": 27,
      "outputs": [
        {
          "output_type": "display_data",
          "data": {
            "image/png": "[encoded data removed]",
            "text/plain": [
              "<Figure size 1152x576 with 1 Axes>"
            ]
          },
          "metadata": {
            "tags": []
          }
        }
      ]
    },
    {
      "cell_type": "markdown",
      "metadata": {
        "id": "Sv7R988-4pCv",
        "colab_type": "text"
      },
      "source": [
        "## Classification Example"
      ]
    },
    {
      "cell_type": "code",
      "metadata": {
        "id": "Tfi78c5XTLD3",
        "colab_type": "code",
        "colab": {}
      },
      "source": [
        "# load MNIST test data\n",
        "\n",
        "mnist_test_dataset = MnistDataset('mount/My Drive/Colab Notebooks/gan/mnist_data/mnist_test.csv')"
      ],
      "execution_count": 0,
      "outputs": []
    },
    {
      "cell_type": "code",
      "metadata": {
        "id": "cdQCvzor-QWx",
        "colab_type": "code",
        "outputId": "76eca12c-5fed-4842-b02b-ab7f96edd7f1",
        "colab": {
          "base_uri": "https://localhost:8080/",
          "height": 281
        }
      },
      "source": [
        "# pick a record\n",
        "record = 19\n",
        "\n",
        "# plot image and correct label\n",
        "mnist_test_dataset.plot_image(record)"
      ],
      "execution_count": 29,
      "outputs": [
        {
          "output_type": "display_data",
          "data": {
            "image/png": "[encoded data removed]",
            "text/plain": [
              "<Figure size 432x288 with 1 Axes>"
            ]
          },
          "metadata": {
            "tags": []
          }
        }
      ]
    },
    {
      "cell_type": "code",
      "metadata": {
        "id": "CqZmjoqs-iJH",
        "colab_type": "code",
        "outputId": "3e04fec4-018f-46e3-aecb-404dfc315939",
        "colab": {
          "base_uri": "https://localhost:8080/",
          "height": 283
        }
      },
      "source": [
        "# visualise the answer given by the neural network\n",
        "\n",
        "image_data = mnist_test_dataset[record][1]\n",
        "\n",
        "# query from trained network\n",
        "output = C.forward(image_data.view(1,1,28,28))\n",
        "\n",
        "# plot output tensor\n",
        "pandas.DataFrame(output.detach().numpy()).plot(kind='bar', legend=False, ylim=(0,1))"
      ],
      "execution_count": 30,
      "outputs": [
        {
          "output_type": "execute_result",
          "data": {
            "text/plain": [
              "<matplotlib.axes._subplots.AxesSubplot at 0x7fe4ea7e74a8>"
            ]
          },
          "metadata": {
            "tags": []
          },
          "execution_count": 30
        },
        {
          "output_type": "display_data",
          "data": {
            "image/png": "[encoded data removed]",
            "text/plain": [
              "<Figure size 432x288 with 1 Axes>"
            ]
          },
          "metadata": {
            "tags": []
          }
        }
      ]
    },
    {
      "cell_type": "markdown",
      "metadata": {
        "id": "yYobxR3rMne7",
        "colab_type": "text"
      },
      "source": [
        "## Classifier Performance"
      ]
    },
    {
      "cell_type": "code",
      "metadata": {
        "id": "dkcHXgffGcKn",
        "colab_type": "code",
        "outputId": "1b391f24-0c21-4d65-e526-d0974beb906e",
        "colab": {
          "base_uri": "https://localhost:8080/",
          "height": 34
        }
      },
      "source": [
        "# test trained neural network on training data\n",
        "\n",
        "score = 0\n",
        "items = 0\n",
        "\n",
        "for label, image_data_tensor, target_tensor in mnist_test_dataset:\n",
        "    answer = C.forward(image_data_tensor.view(1,1,28,28)).detach().numpy()\n",
        "    if (answer.argmax() == label):\n",
        "        score += 1\n",
        "        pass\n",
        "    items += 1\n",
        "    \n",
        "    pass\n",
        "\n",
        "print(score, items, score/items)"
      ],
      "execution_count": 31,
      "outputs": [
        {
          "output_type": "stream",
          "text": [
            "9866 10000 0.9866\n"
          ],
          "name": "stdout"
        }
      ]
    },
    {
      "cell_type": "code",
      "metadata": {
        "id": "jzOlSWGbVGjK",
        "colab_type": "code",
        "colab": {}
      },
      "source": [
        ""
      ],
      "execution_count": 0,
      "outputs": []
    }
  ]
}